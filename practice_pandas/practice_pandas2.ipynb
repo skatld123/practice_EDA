{
 "cells": [
  {
   "cell_type": "code",
   "execution_count": null,
   "metadata": {},
   "outputs": [],
   "source": [
    "# Pandas 조작 문제\n",
    "\n",
    "# 필요한 라이브러리 임포트\n",
    "import pandas as pd\n",
    "import numpy as np\n",
    "\n",
    "# 샘플 데이터프레임 생성\n",
    "data1 = {\n",
    "    \"ID\": [1, 2, 3, 4],\n",
    "    \"Name\": [\"Alice\", \"Bob\", \"Charlie\", \"David\"],\n",
    "    \"Age\": [24, 27, 22, 32],\n",
    "    \"Department\": [\"Sales\", \"Engineering\", \"HR\", \"Marketing\"],\n",
    "}\n",
    "\n",
    "data2 = {\n",
    "    \"ID\": [3, 4, 5],\n",
    "    \"Name\": [\"Charlie\", \"David\", \"Eve\"],\n",
    "    \"Salary\": [50000, 60000, 55000],\n",
    "    \"Department\": [\"HR\", \"Marketing\", \"Engineering\"],\n",
    "}\n",
    "\n",
    "data3 = {\n",
    "    \"Dept_ID\": [101, 102, 103, 104],\n",
    "    \"Department\": [\"Sales\", \"Engineering\", \"HR\", \"Marketing\"],\n",
    "    \"Location\": [\"Building A\", \"Building B\", \"Building C\", \"Building D\"],\n",
    "}\n",
    "\n",
    "df1 = pd.DataFrame(data1)\n",
    "df2 = pd.DataFrame(data2)\n",
    "df3 = pd.DataFrame(data3)\n",
    "\n",
    "# 각 데이터프레임 확인\n",
    "print(\"df1:\\n\", df1)\n",
    "print(\"\\ndf2:\\n\", df2)\n",
    "print(\"\\ndf3:\\n\", df3)"
   ]
  },
  {
   "cell_type": "markdown",
   "metadata": {},
   "source": [
    "문제 1: groupby를 활용한 집계  \n",
    "df1에서 Department를 기준으로 Age의 평균을 계산하세요.  \n",
    "df2에서 Department를 기준으로 Salary의 총합을 구하세요.  "
   ]
  },
  {
   "cell_type": "markdown",
   "metadata": {},
   "source": [
    "문제 2: merge를 활용한 데이터프레임 병합  \n",
    "df1과 df2를 ID 열을 기준으로 inner join하여 공통된 ID의 데이터를 합치세요.  \n",
    "df1과 df3을 Department 열을 기준으로 left join하여 모든 df1의 데이터를 포함하도록 병합하세요.  "
   ]
  },
  {
   "cell_type": "markdown",
   "metadata": {},
   "source": [
    "문제 3: join을 활용한 데이터프레임 병합  \n",
    "df1을 ID를 인덱스로 설정하고, df2를 ID 인덱스로 설정하여 join으로 병합하세요. 병합 방식은 inner로 합니다.  \n",
    "df3을 Department 열을 인덱스로 설정하고, df1도 Department를 인덱스로 설정한 후 join으로 병합하세요.  "
   ]
  },
  {
   "cell_type": "markdown",
   "metadata": {},
   "source": [
    "문제 4: concat을 활용한 데이터프레임 결합  \n",
    "df1과 df2를 위아래로 이어붙여서 새로운 데이터프레임을 만드세요.  \n",
    "df1과 df3을 옆으로 이어붙여서 새로운 데이터프레임을 만드세요. 각 열 이름이 겹치지 않도록 하세요.  "
   ]
  }
 ],
 "metadata": {
  "language_info": {
   "name": "python"
  }
 },
 "nbformat": 4,
 "nbformat_minor": 2
}
