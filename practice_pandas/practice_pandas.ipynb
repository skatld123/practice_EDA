{
 "cells": [
  {
   "cell_type": "code",
   "execution_count": 1,
   "metadata": {},
   "outputs": [],
   "source": [
    "import pandas as pd\n",
    "import numpy as np\n",
    "\n",
    "# 예제 데이터프레임 생성\n",
    "data = {\n",
    "    \"Age\": [23, 45, 31, 27, np.nan, 36, 50],\n",
    "    \"Gender\": [\"Male\", \"Female\", \"Male\", \"Female\", \"Male\", \"Female\", \"Male\"],\n",
    "    \"Salary\": [3000, 4500, 3200, 5000, np.nan, 5600, 7500],\n",
    "    \"Department\": [\n",
    "        \"Sales\",\n",
    "        \"Engineering\",\n",
    "        \"HR\",\n",
    "        \"Marketing\",\n",
    "        \"Sales\",\n",
    "        \"HR\",\n",
    "        \"Engineering\",\n",
    "    ],\n",
    "    \"City\": [\n",
    "        \"New York\",\n",
    "        \"Los Angeles\",\n",
    "        \"New York\",\n",
    "        \"Chicago\",\n",
    "        np.nan,\n",
    "        \"Chicago\",\n",
    "        \"Los Angeles\",\n",
    "    ],\n",
    "    \"Join_Date\": [\n",
    "        \"2015-01-01\",\n",
    "        \"2016-03-15\",\n",
    "        \"2018-06-25\",\n",
    "        \"2017-08-09\",\n",
    "        \"2015-12-19\",\n",
    "        \"2019-11-30\",\n",
    "        \"2018-02-05\",\n",
    "    ],\n",
    "}\n",
    "df = pd.DataFrame(data)"
   ]
  },
  {
   "cell_type": "markdown",
   "metadata": {},
   "source": [
    "문제 1: 데이터 로드 및 기본 탐색  \n",
    "data.csv 파일을 불러와 df라는 이름의 데이터프레임으로 저장하세요.  \n",
    "데이터의 행과 열 수를 출력하세요.  \n",
    "모든 열의 데이터 타입과 결측값 개수를 출력하세요.  "
   ]
  },
  {
   "cell_type": "code",
   "execution_count": 3,
   "metadata": {},
   "outputs": [
    {
     "name": "stdout",
     "output_type": "stream",
     "text": [
      "(7, 6)\n"
     ]
    }
   ],
   "source": [
    "print(df.shape)"
   ]
  },
  {
   "cell_type": "code",
   "execution_count": 5,
   "metadata": {},
   "outputs": [
    {
     "name": "stdout",
     "output_type": "stream",
     "text": [
      "<class 'pandas.core.frame.DataFrame'>\n",
      "RangeIndex: 7 entries, 0 to 6\n",
      "Data columns (total 6 columns):\n",
      " #   Column      Non-Null Count  Dtype  \n",
      "---  ------      --------------  -----  \n",
      " 0   Age         6 non-null      float64\n",
      " 1   Gender      7 non-null      object \n",
      " 2   Salary      6 non-null      float64\n",
      " 3   Department  7 non-null      object \n",
      " 4   City        6 non-null      object \n",
      " 5   Join_Date   7 non-null      object \n",
      "dtypes: float64(2), object(4)\n",
      "memory usage: 468.0+ bytes\n",
      "None\n"
     ]
    }
   ],
   "source": [
    "print(df.info())"
   ]
  },
  {
   "cell_type": "markdown",
   "metadata": {},
   "source": [
    "문제 2: 데이터 필터링 및 선택  \n",
    "Age 열의 값이 30 이상인 데이터만 선택하여 df_age로 저장하세요.  \n",
    "Gender 열의 값이 'Male'인 데이터만 선택하여 df_male로 저장하세요.  \n",
    "Salary 열의 값이 가장 높은 데이터와 가장 낮은 데이터를 각각 출력하세요.  "
   ]
  },
  {
   "cell_type": "code",
   "execution_count": 7,
   "metadata": {},
   "outputs": [
    {
     "name": "stdout",
     "output_type": "stream",
     "text": [
      "    Age  Gender  Salary   Department         City   Join_Date\n",
      "1  45.0  Female  4500.0  Engineering  Los Angeles  2016-03-15\n",
      "2  31.0    Male  3200.0           HR     New York  2018-06-25\n",
      "5  36.0  Female  5600.0           HR      Chicago  2019-11-30\n",
      "6  50.0    Male  7500.0  Engineering  Los Angeles  2018-02-05\n"
     ]
    }
   ],
   "source": [
    "df_age = df[df[\"Age\"] >= 30]\n",
    "print(df_age)"
   ]
  },
  {
   "cell_type": "code",
   "execution_count": 8,
   "metadata": {},
   "outputs": [
    {
     "name": "stdout",
     "output_type": "stream",
     "text": [
      "    Age Gender  Salary   Department         City   Join_Date\n",
      "0  23.0   Male  3000.0        Sales     New York  2015-01-01\n",
      "2  31.0   Male  3200.0           HR     New York  2018-06-25\n",
      "4   NaN   Male     NaN        Sales          NaN  2015-12-19\n",
      "6  50.0   Male  7500.0  Engineering  Los Angeles  2018-02-05\n"
     ]
    }
   ],
   "source": [
    "df_male = df[df[\"Gender\"] == \"Male\"]\n",
    "print(df_male)"
   ]
  },
  {
   "cell_type": "code",
   "execution_count": 10,
   "metadata": {},
   "outputs": [
    {
     "name": "stdout",
     "output_type": "stream",
     "text": [
      "    Age Gender  Salary   Department         City   Join_Date\n",
      "6  50.0   Male  7500.0  Engineering  Los Angeles  2018-02-05 \n",
      "     Age Gender  Salary Department      City   Join_Date\n",
      "0  23.0   Male  3000.0      Sales  New York  2015-01-01\n"
     ]
    }
   ],
   "source": [
    "high = df[df[\"Salary\"] == df[\"Salary\"].max()]\n",
    "low = df[df[\"Salary\"] == df[\"Salary\"].min()]\n",
    "print(high, \"\\n\", low)"
   ]
  },
  {
   "cell_type": "markdown",
   "metadata": {},
   "source": [
    "문제 3: 결측값 처리  \n",
    "결측값이 있는 모든 행을 삭제한 후, 데이터의 행 수를 출력하세요.  \n",
    "Age, Salary 열의 결측값을 각각의 열 평균값으로 대체하세요.  \n",
    "City 열에 결측값이 있으면 **'Unknown'**으로 채우세요.  "
   ]
  },
  {
   "cell_type": "code",
   "execution_count": 11,
   "metadata": {},
   "outputs": [
    {
     "data": {
      "text/plain": [
       "Age           1\n",
       "Gender        0\n",
       "Salary        1\n",
       "Department    0\n",
       "City          1\n",
       "Join_Date     0\n",
       "dtype: int64"
      ]
     },
     "execution_count": 11,
     "metadata": {},
     "output_type": "execute_result"
    }
   ],
   "source": [
    "df.isnull().sum()"
   ]
  },
  {
   "cell_type": "code",
   "execution_count": 16,
   "metadata": {},
   "outputs": [
    {
     "name": "stdout",
     "output_type": "stream",
     "text": [
      "(7, 6)\n",
      "(6, 6)\n"
     ]
    }
   ],
   "source": [
    "print(df.shape)\n",
    "df_drop = df.dropna()\n",
    "print(df_drop.shape)"
   ]
  },
  {
   "cell_type": "code",
   "execution_count": 18,
   "metadata": {},
   "outputs": [
    {
     "name": "stdout",
     "output_type": "stream",
     "text": [
      "         Age  Gender  Salary   Department         City   Join_Date\n",
      "0  23.000000    Male  3000.0        Sales     New York  2015-01-01\n",
      "1  45.000000  Female  4500.0  Engineering  Los Angeles  2016-03-15\n",
      "2  31.000000    Male  3200.0           HR     New York  2018-06-25\n",
      "3  27.000000  Female  5000.0    Marketing      Chicago  2017-08-09\n",
      "4  35.333333    Male  4800.0        Sales      Unknown  2015-12-19\n",
      "5  36.000000  Female  5600.0           HR      Chicago  2019-11-30\n",
      "6  50.000000    Male  7500.0  Engineering  Los Angeles  2018-02-05\n"
     ]
    },
    {
     "data": {
      "text/plain": [
       "Age           0\n",
       "Gender        0\n",
       "Salary        0\n",
       "Department    0\n",
       "City          0\n",
       "Join_Date     0\n",
       "dtype: int64"
      ]
     },
     "execution_count": 18,
     "metadata": {},
     "output_type": "execute_result"
    }
   ],
   "source": [
    "df[\"Age\"] = df[\"Age\"].fillna(df[\"Age\"].mean())\n",
    "df[\"Salary\"] = df[\"Salary\"].fillna(df[\"Salary\"].mean())\n",
    "df[\"City\"] = df[\"City\"].fillna(\"Unknown\")\n",
    "print(df)\n",
    "df.isnull().sum()"
   ]
  },
  {
   "cell_type": "markdown",
   "metadata": {},
   "source": [
    "문제 4: 데이터 그룹화와 집계  \n",
    "Department 열을 기준으로 Salary 열의 평균을 구하세요.  \n",
    "Gender와 Department로 그룹화하여 Salary의 합계를 구하세요.  \n",
    "Age 열을 기준으로 **연령대(10대, 20대, 30대 등)**별로 평균 Salary를 계산하세요.  "
   ]
  },
  {
   "cell_type": "code",
   "execution_count": 21,
   "metadata": {},
   "outputs": [
    {
     "data": {
      "text/plain": [
       "Department\n",
       "Engineering    6000.0\n",
       "HR             4400.0\n",
       "Marketing      5000.0\n",
       "Sales          3900.0\n",
       "Name: Salary, dtype: float64"
      ]
     },
     "execution_count": 21,
     "metadata": {},
     "output_type": "execute_result"
    }
   ],
   "source": [
    "df.groupby('Department')['Salary'].mean()"
   ]
  },
  {
   "cell_type": "code",
   "execution_count": 22,
   "metadata": {},
   "outputs": [
    {
     "data": {
      "text/plain": [
       "Gender  Department \n",
       "Female  Engineering    4500.0\n",
       "        HR             5600.0\n",
       "        Marketing      5000.0\n",
       "Male    Engineering    7500.0\n",
       "        HR             3200.0\n",
       "        Sales          7800.0\n",
       "Name: Salary, dtype: float64"
      ]
     },
     "execution_count": 22,
     "metadata": {},
     "output_type": "execute_result"
    }
   ],
   "source": [
    "df.groupby(['Gender', 'Department'])['Salary'].sum()"
   ]
  },
  {
   "cell_type": "code",
   "execution_count": 29,
   "metadata": {},
   "outputs": [
    {
     "name": "stderr",
     "output_type": "stream",
     "text": [
      "C:\\Users\\nsh\\AppData\\Local\\Temp\\ipykernel_16516\\3280687768.py:2: FutureWarning: The default of observed=False is deprecated and will be changed to True in a future version of pandas. Pass observed=False to retain current behavior or observed=True to adopt the future default and silence this warning.\n",
      "  df.groupby([\"Age_Group\"])[\"Salary\"].mean()\n"
     ]
    },
    {
     "data": {
      "text/plain": [
       "Age_Group\n",
       "10            NaN\n",
       "20    4000.000000\n",
       "30    4533.333333\n",
       "40    6000.000000\n",
       "50            NaN\n",
       "Name: Salary, dtype: float64"
      ]
     },
     "execution_count": 29,
     "metadata": {},
     "output_type": "execute_result"
    }
   ],
   "source": [
    "df[\"Age_Group\"] = pd.cut(df['Age'], bins=[0, 20, 30, 40, 50, 60], labels=[\"10\", \"20\", \"30\", \"40\", \"50\"])\n",
    "df.groupby([\"Age_Group\"])[\"Salary\"].mean()"
   ]
  },
  {
   "cell_type": "markdown",
   "metadata": {},
   "source": [
    "문제 5: 데이터 변형 및 생성  \n",
    "Salary가 5000 이상이면 'High', 5000 미만이면 'Low'로 구분하는 Salary_Level이라는 새로운 열을 추가하세요.  \n",
    "Join_Date 열의 연도(Year)와 월(Month)만 추출하여 각각 Join_Year, Join_Month라는 열을 추가하세요.  \n",
    "Last_Login 열의 날짜 데이터를 연도-월-일 형식으로 변경하세요.  "
   ]
  },
  {
   "cell_type": "code",
   "execution_count": 30,
   "metadata": {},
   "outputs": [
    {
     "name": "stdout",
     "output_type": "stream",
     "text": [
      "  Salary_Level  Salary\n",
      "0          Low  3000.0\n",
      "1          Low  4500.0\n",
      "2          Low  3200.0\n",
      "3         High  5000.0\n",
      "4          Low  4800.0\n",
      "5         High  5600.0\n",
      "6         High  7500.0\n"
     ]
    }
   ],
   "source": [
    "df[\"Salary_Level\"] = df[\"Salary\"].apply(lambda x : \"High\" if x >= 5000 else \"Low\")\n",
    "print(df[[\"Salary_Level\", \"Salary\"]])"
   ]
  },
  {
   "cell_type": "code",
   "execution_count": 38,
   "metadata": {},
   "outputs": [
    {
     "data": {
      "text/plain": [
       "0     1\n",
       "1     3\n",
       "2     6\n",
       "3     8\n",
       "4    12\n",
       "5    11\n",
       "6     2\n",
       "Name: Join_Month, dtype: int32"
      ]
     },
     "execution_count": 38,
     "metadata": {},
     "output_type": "execute_result"
    }
   ],
   "source": [
    "# year, momth, day = df[\"Join_Date\"].split(\"-\")\n",
    "# print(year, momth, day)\n",
    "df[\"Join_Year\"] = pd.to_datetime(df[\"Join_Date\"]).dt.year\n",
    "df[\"Join_Month\"] = pd.to_datetime(df[\"Join_Date\"]).dt.month\n",
    "df[\"Join_Month\"]\n",
    "# df[\"Join_Date\"].values.astype(str).tolist()"
   ]
  },
  {
   "cell_type": "code",
   "execution_count": 40,
   "metadata": {},
   "outputs": [
    {
     "data": {
      "text/plain": [
       "0    2015-00-01\n",
       "1    2016-00-15\n",
       "2    2018-00-25\n",
       "3    2017-00-09\n",
       "4    2015-00-19\n",
       "5    2019-00-30\n",
       "6    2018-00-05\n",
       "Name: Join_Date, dtype: object"
      ]
     },
     "execution_count": 40,
     "metadata": {},
     "output_type": "execute_result"
    }
   ],
   "source": [
    "df[\"Join_Date\"] = pd.to_datetime(df[\"Join_Date\"]).dt.strftime(\"%Y-%M-%d\")\n",
    "df[\"Join_Date\"]"
   ]
  },
  {
   "cell_type": "markdown",
   "metadata": {},
   "source": [
    "문제 6: 데이터 인코딩 및 정렬  \n",
    "One-Hot Encoding을 사용하여 Department 열을 인코딩하고, 인코딩된 데이터프레임을 출력하세요.  \n",
    "Salary 열을 기준으로 데이터를 내림차순 정렬하고, Age 열을 기준으로 오름차순으로 다시 정렬하세요.  \n",
    "Gender 열을 Label Encoding하여 'Male'은 1, 'Female'은 0으로 변환하세요.  "
   ]
  },
  {
   "cell_type": "code",
   "execution_count": 43,
   "metadata": {},
   "outputs": [
    {
     "data": {
      "text/html": [
       "<div>\n",
       "<style scoped>\n",
       "    .dataframe tbody tr th:only-of-type {\n",
       "        vertical-align: middle;\n",
       "    }\n",
       "\n",
       "    .dataframe tbody tr th {\n",
       "        vertical-align: top;\n",
       "    }\n",
       "\n",
       "    .dataframe thead th {\n",
       "        text-align: right;\n",
       "    }\n",
       "</style>\n",
       "<table border=\"1\" class=\"dataframe\">\n",
       "  <thead>\n",
       "    <tr style=\"text-align: right;\">\n",
       "      <th></th>\n",
       "      <th>Age</th>\n",
       "      <th>Gender</th>\n",
       "      <th>Salary</th>\n",
       "      <th>City</th>\n",
       "      <th>Join_Date</th>\n",
       "      <th>Age_Group</th>\n",
       "      <th>Salary_Level</th>\n",
       "      <th>Join_Year</th>\n",
       "      <th>Join_Month</th>\n",
       "      <th>Department_Engineering</th>\n",
       "      <th>Department_HR</th>\n",
       "      <th>Department_Marketing</th>\n",
       "      <th>Department_Sales</th>\n",
       "    </tr>\n",
       "  </thead>\n",
       "  <tbody>\n",
       "    <tr>\n",
       "      <th>0</th>\n",
       "      <td>23.000000</td>\n",
       "      <td>Male</td>\n",
       "      <td>3000.0</td>\n",
       "      <td>New York</td>\n",
       "      <td>2015-00-01</td>\n",
       "      <td>20</td>\n",
       "      <td>Low</td>\n",
       "      <td>2015</td>\n",
       "      <td>1</td>\n",
       "      <td>False</td>\n",
       "      <td>False</td>\n",
       "      <td>False</td>\n",
       "      <td>True</td>\n",
       "    </tr>\n",
       "    <tr>\n",
       "      <th>1</th>\n",
       "      <td>45.000000</td>\n",
       "      <td>Female</td>\n",
       "      <td>4500.0</td>\n",
       "      <td>Los Angeles</td>\n",
       "      <td>2016-00-15</td>\n",
       "      <td>40</td>\n",
       "      <td>Low</td>\n",
       "      <td>2016</td>\n",
       "      <td>3</td>\n",
       "      <td>True</td>\n",
       "      <td>False</td>\n",
       "      <td>False</td>\n",
       "      <td>False</td>\n",
       "    </tr>\n",
       "    <tr>\n",
       "      <th>2</th>\n",
       "      <td>31.000000</td>\n",
       "      <td>Male</td>\n",
       "      <td>3200.0</td>\n",
       "      <td>New York</td>\n",
       "      <td>2018-00-25</td>\n",
       "      <td>30</td>\n",
       "      <td>Low</td>\n",
       "      <td>2018</td>\n",
       "      <td>6</td>\n",
       "      <td>False</td>\n",
       "      <td>True</td>\n",
       "      <td>False</td>\n",
       "      <td>False</td>\n",
       "    </tr>\n",
       "    <tr>\n",
       "      <th>3</th>\n",
       "      <td>27.000000</td>\n",
       "      <td>Female</td>\n",
       "      <td>5000.0</td>\n",
       "      <td>Chicago</td>\n",
       "      <td>2017-00-09</td>\n",
       "      <td>20</td>\n",
       "      <td>High</td>\n",
       "      <td>2017</td>\n",
       "      <td>8</td>\n",
       "      <td>False</td>\n",
       "      <td>False</td>\n",
       "      <td>True</td>\n",
       "      <td>False</td>\n",
       "    </tr>\n",
       "    <tr>\n",
       "      <th>4</th>\n",
       "      <td>35.333333</td>\n",
       "      <td>Male</td>\n",
       "      <td>4800.0</td>\n",
       "      <td>Unknown</td>\n",
       "      <td>2015-00-19</td>\n",
       "      <td>30</td>\n",
       "      <td>Low</td>\n",
       "      <td>2015</td>\n",
       "      <td>12</td>\n",
       "      <td>False</td>\n",
       "      <td>False</td>\n",
       "      <td>False</td>\n",
       "      <td>True</td>\n",
       "    </tr>\n",
       "    <tr>\n",
       "      <th>5</th>\n",
       "      <td>36.000000</td>\n",
       "      <td>Female</td>\n",
       "      <td>5600.0</td>\n",
       "      <td>Chicago</td>\n",
       "      <td>2019-00-30</td>\n",
       "      <td>30</td>\n",
       "      <td>High</td>\n",
       "      <td>2019</td>\n",
       "      <td>11</td>\n",
       "      <td>False</td>\n",
       "      <td>True</td>\n",
       "      <td>False</td>\n",
       "      <td>False</td>\n",
       "    </tr>\n",
       "    <tr>\n",
       "      <th>6</th>\n",
       "      <td>50.000000</td>\n",
       "      <td>Male</td>\n",
       "      <td>7500.0</td>\n",
       "      <td>Los Angeles</td>\n",
       "      <td>2018-00-05</td>\n",
       "      <td>40</td>\n",
       "      <td>High</td>\n",
       "      <td>2018</td>\n",
       "      <td>2</td>\n",
       "      <td>True</td>\n",
       "      <td>False</td>\n",
       "      <td>False</td>\n",
       "      <td>False</td>\n",
       "    </tr>\n",
       "  </tbody>\n",
       "</table>\n",
       "</div>"
      ],
      "text/plain": [
       "         Age  Gender  Salary         City   Join_Date Age_Group Salary_Level  \\\n",
       "0  23.000000    Male  3000.0     New York  2015-00-01        20          Low   \n",
       "1  45.000000  Female  4500.0  Los Angeles  2016-00-15        40          Low   \n",
       "2  31.000000    Male  3200.0     New York  2018-00-25        30          Low   \n",
       "3  27.000000  Female  5000.0      Chicago  2017-00-09        20         High   \n",
       "4  35.333333    Male  4800.0      Unknown  2015-00-19        30          Low   \n",
       "5  36.000000  Female  5600.0      Chicago  2019-00-30        30         High   \n",
       "6  50.000000    Male  7500.0  Los Angeles  2018-00-05        40         High   \n",
       "\n",
       "   Join_Year  Join_Month  Department_Engineering  Department_HR  \\\n",
       "0       2015           1                   False          False   \n",
       "1       2016           3                    True          False   \n",
       "2       2018           6                   False           True   \n",
       "3       2017           8                   False          False   \n",
       "4       2015          12                   False          False   \n",
       "5       2019          11                   False           True   \n",
       "6       2018           2                    True          False   \n",
       "\n",
       "   Department_Marketing  Department_Sales  \n",
       "0                 False              True  \n",
       "1                 False             False  \n",
       "2                 False             False  \n",
       "3                  True             False  \n",
       "4                 False              True  \n",
       "5                 False             False  \n",
       "6                 False             False  "
      ]
     },
     "execution_count": 43,
     "metadata": {},
     "output_type": "execute_result"
    }
   ],
   "source": [
    "df_onehot = pd.get_dummies(df, columns=[\"Department\"])\n",
    "df_onehot"
   ]
  },
  {
   "cell_type": "code",
   "execution_count": 45,
   "metadata": {},
   "outputs": [
    {
     "data": {
      "text/html": [
       "<div>\n",
       "<style scoped>\n",
       "    .dataframe tbody tr th:only-of-type {\n",
       "        vertical-align: middle;\n",
       "    }\n",
       "\n",
       "    .dataframe tbody tr th {\n",
       "        vertical-align: top;\n",
       "    }\n",
       "\n",
       "    .dataframe thead th {\n",
       "        text-align: right;\n",
       "    }\n",
       "</style>\n",
       "<table border=\"1\" class=\"dataframe\">\n",
       "  <thead>\n",
       "    <tr style=\"text-align: right;\">\n",
       "      <th></th>\n",
       "      <th>Age</th>\n",
       "      <th>Gender</th>\n",
       "      <th>Salary</th>\n",
       "      <th>Department</th>\n",
       "      <th>City</th>\n",
       "      <th>Join_Date</th>\n",
       "      <th>Age_Group</th>\n",
       "      <th>Salary_Level</th>\n",
       "      <th>Join_Year</th>\n",
       "      <th>Join_Month</th>\n",
       "    </tr>\n",
       "  </thead>\n",
       "  <tbody>\n",
       "    <tr>\n",
       "      <th>6</th>\n",
       "      <td>50.000000</td>\n",
       "      <td>Male</td>\n",
       "      <td>7500.0</td>\n",
       "      <td>Engineering</td>\n",
       "      <td>Los Angeles</td>\n",
       "      <td>2018-00-05</td>\n",
       "      <td>40</td>\n",
       "      <td>High</td>\n",
       "      <td>2018</td>\n",
       "      <td>2</td>\n",
       "    </tr>\n",
       "    <tr>\n",
       "      <th>5</th>\n",
       "      <td>36.000000</td>\n",
       "      <td>Female</td>\n",
       "      <td>5600.0</td>\n",
       "      <td>HR</td>\n",
       "      <td>Chicago</td>\n",
       "      <td>2019-00-30</td>\n",
       "      <td>30</td>\n",
       "      <td>High</td>\n",
       "      <td>2019</td>\n",
       "      <td>11</td>\n",
       "    </tr>\n",
       "    <tr>\n",
       "      <th>3</th>\n",
       "      <td>27.000000</td>\n",
       "      <td>Female</td>\n",
       "      <td>5000.0</td>\n",
       "      <td>Marketing</td>\n",
       "      <td>Chicago</td>\n",
       "      <td>2017-00-09</td>\n",
       "      <td>20</td>\n",
       "      <td>High</td>\n",
       "      <td>2017</td>\n",
       "      <td>8</td>\n",
       "    </tr>\n",
       "    <tr>\n",
       "      <th>4</th>\n",
       "      <td>35.333333</td>\n",
       "      <td>Male</td>\n",
       "      <td>4800.0</td>\n",
       "      <td>Sales</td>\n",
       "      <td>Unknown</td>\n",
       "      <td>2015-00-19</td>\n",
       "      <td>30</td>\n",
       "      <td>Low</td>\n",
       "      <td>2015</td>\n",
       "      <td>12</td>\n",
       "    </tr>\n",
       "    <tr>\n",
       "      <th>1</th>\n",
       "      <td>45.000000</td>\n",
       "      <td>Female</td>\n",
       "      <td>4500.0</td>\n",
       "      <td>Engineering</td>\n",
       "      <td>Los Angeles</td>\n",
       "      <td>2016-00-15</td>\n",
       "      <td>40</td>\n",
       "      <td>Low</td>\n",
       "      <td>2016</td>\n",
       "      <td>3</td>\n",
       "    </tr>\n",
       "    <tr>\n",
       "      <th>2</th>\n",
       "      <td>31.000000</td>\n",
       "      <td>Male</td>\n",
       "      <td>3200.0</td>\n",
       "      <td>HR</td>\n",
       "      <td>New York</td>\n",
       "      <td>2018-00-25</td>\n",
       "      <td>30</td>\n",
       "      <td>Low</td>\n",
       "      <td>2018</td>\n",
       "      <td>6</td>\n",
       "    </tr>\n",
       "    <tr>\n",
       "      <th>0</th>\n",
       "      <td>23.000000</td>\n",
       "      <td>Male</td>\n",
       "      <td>3000.0</td>\n",
       "      <td>Sales</td>\n",
       "      <td>New York</td>\n",
       "      <td>2015-00-01</td>\n",
       "      <td>20</td>\n",
       "      <td>Low</td>\n",
       "      <td>2015</td>\n",
       "      <td>1</td>\n",
       "    </tr>\n",
       "  </tbody>\n",
       "</table>\n",
       "</div>"
      ],
      "text/plain": [
       "         Age  Gender  Salary   Department         City   Join_Date Age_Group  \\\n",
       "6  50.000000    Male  7500.0  Engineering  Los Angeles  2018-00-05        40   \n",
       "5  36.000000  Female  5600.0           HR      Chicago  2019-00-30        30   \n",
       "3  27.000000  Female  5000.0    Marketing      Chicago  2017-00-09        20   \n",
       "4  35.333333    Male  4800.0        Sales      Unknown  2015-00-19        30   \n",
       "1  45.000000  Female  4500.0  Engineering  Los Angeles  2016-00-15        40   \n",
       "2  31.000000    Male  3200.0           HR     New York  2018-00-25        30   \n",
       "0  23.000000    Male  3000.0        Sales     New York  2015-00-01        20   \n",
       "\n",
       "  Salary_Level  Join_Year  Join_Month  \n",
       "6         High       2018           2  \n",
       "5         High       2019          11  \n",
       "3         High       2017           8  \n",
       "4          Low       2015          12  \n",
       "1          Low       2016           3  \n",
       "2          Low       2018           6  \n",
       "0          Low       2015           1  "
      ]
     },
     "execution_count": 45,
     "metadata": {},
     "output_type": "execute_result"
    }
   ],
   "source": [
    "df_sorted = df.sort_values(by=[\"Salary\", \"Age\"], ascending=[False, True])\n",
    "df_sorted"
   ]
  },
  {
   "cell_type": "code",
   "execution_count": 46,
   "metadata": {},
   "outputs": [
    {
     "data": {
      "text/plain": [
       "0    1\n",
       "1    0\n",
       "2    1\n",
       "3    0\n",
       "4    1\n",
       "5    0\n",
       "6    1\n",
       "Name: Gender_encoded, dtype: int64"
      ]
     },
     "execution_count": 46,
     "metadata": {},
     "output_type": "execute_result"
    }
   ],
   "source": [
    "df['Gender_encoded'] = df['Gender'].map({\"Male\" : 1, \"Female\" : 0})\n",
    "df['Gender_encoded']"
   ]
  },
  {
   "cell_type": "markdown",
   "metadata": {},
   "source": [
    "문제 7: 고급 필터링 및 조건문  \n",
    "Age가 30 이상이고 City가 'New York'인 데이터만 추출하세요.  \n",
    "Salary_Level이 'High'인 사람들의 평균 연봉을 구하세요.  \n",
    "Age가 25 이상이면서 Salary가 7000 이상인 경우, High_Earner라는 새로운 열에 True를 넣고, 그렇지 않으면 False를 넣어보세요.  "
   ]
  },
  {
   "cell_type": "code",
   "execution_count": 47,
   "metadata": {},
   "outputs": [
    {
     "data": {
      "text/html": [
       "<div>\n",
       "<style scoped>\n",
       "    .dataframe tbody tr th:only-of-type {\n",
       "        vertical-align: middle;\n",
       "    }\n",
       "\n",
       "    .dataframe tbody tr th {\n",
       "        vertical-align: top;\n",
       "    }\n",
       "\n",
       "    .dataframe thead th {\n",
       "        text-align: right;\n",
       "    }\n",
       "</style>\n",
       "<table border=\"1\" class=\"dataframe\">\n",
       "  <thead>\n",
       "    <tr style=\"text-align: right;\">\n",
       "      <th></th>\n",
       "      <th>Age</th>\n",
       "      <th>Gender</th>\n",
       "      <th>Salary</th>\n",
       "      <th>Department</th>\n",
       "      <th>City</th>\n",
       "      <th>Join_Date</th>\n",
       "      <th>Age_Group</th>\n",
       "      <th>Salary_Level</th>\n",
       "      <th>Join_Year</th>\n",
       "      <th>Join_Month</th>\n",
       "      <th>Gender_encoded</th>\n",
       "    </tr>\n",
       "  </thead>\n",
       "  <tbody>\n",
       "    <tr>\n",
       "      <th>2</th>\n",
       "      <td>31.0</td>\n",
       "      <td>Male</td>\n",
       "      <td>3200.0</td>\n",
       "      <td>HR</td>\n",
       "      <td>New York</td>\n",
       "      <td>2018-00-25</td>\n",
       "      <td>30</td>\n",
       "      <td>Low</td>\n",
       "      <td>2018</td>\n",
       "      <td>6</td>\n",
       "      <td>1</td>\n",
       "    </tr>\n",
       "  </tbody>\n",
       "</table>\n",
       "</div>"
      ],
      "text/plain": [
       "    Age Gender  Salary Department      City   Join_Date Age_Group  \\\n",
       "2  31.0   Male  3200.0         HR  New York  2018-00-25        30   \n",
       "\n",
       "  Salary_Level  Join_Year  Join_Month  Gender_encoded  \n",
       "2          Low       2018           6               1  "
      ]
     },
     "execution_count": 47,
     "metadata": {},
     "output_type": "execute_result"
    }
   ],
   "source": [
    "filter = df[(df[\"Age\"] >= 30) & (df[\"City\"] == \"New York\")]\n",
    "filter"
   ]
  },
  {
   "cell_type": "code",
   "execution_count": 49,
   "metadata": {},
   "outputs": [
    {
     "data": {
      "text/plain": [
       "6033.333333333333"
      ]
     },
     "execution_count": 49,
     "metadata": {},
     "output_type": "execute_result"
    }
   ],
   "source": [
    "mean_salary = df[df[\"Salary_Level\"] == \"High\"][\"Salary\"].mean()\n",
    "mean_salary"
   ]
  },
  {
   "cell_type": "code",
   "execution_count": null,
   "metadata": {},
   "outputs": [],
   "source": [
    "df[\"High_Earner\"] = (df[\"Age\"] >= 25) & (df[\"Salary\"] >= 7000)\n",
    "df[\"High_Earner\"]"
   ]
  },
  {
   "cell_type": "markdown",
   "metadata": {},
   "source": [
    "문제 10: 데이터 결합 및 병합  \n",
    "- 새로운 데이터프레임 department_info를 생성하고, Department 열과 해당 부서의 위치(Location) 정보를 포함하세요.  \n",
    "- df와 department_info를 Department 열을 기준으로 병합하세요.  \n",
    "- df에서 중복된 데이터를 제거한 후, 결과를 출력하세요.  "
   ]
  },
  {
   "cell_type": "code",
   "execution_count": 55,
   "metadata": {},
   "outputs": [],
   "source": [
    "department_info = pd.DataFrame({\n",
    "    'Department': ['Sales', 'Engineering', 'HR', 'Marketing'],\n",
    "    'Location': ['Building A', 'Building B', 'Building C', 'Building D']\n",
    "})"
   ]
  },
  {
   "cell_type": "code",
   "execution_count": 57,
   "metadata": {},
   "outputs": [
    {
     "data": {
      "text/html": [
       "<div>\n",
       "<style scoped>\n",
       "    .dataframe tbody tr th:only-of-type {\n",
       "        vertical-align: middle;\n",
       "    }\n",
       "\n",
       "    .dataframe tbody tr th {\n",
       "        vertical-align: top;\n",
       "    }\n",
       "\n",
       "    .dataframe thead th {\n",
       "        text-align: right;\n",
       "    }\n",
       "</style>\n",
       "<table border=\"1\" class=\"dataframe\">\n",
       "  <thead>\n",
       "    <tr style=\"text-align: right;\">\n",
       "      <th></th>\n",
       "      <th>Age</th>\n",
       "      <th>Gender</th>\n",
       "      <th>Salary</th>\n",
       "      <th>Department</th>\n",
       "      <th>City</th>\n",
       "      <th>Join_Date</th>\n",
       "      <th>Age_Group</th>\n",
       "      <th>Salary_Level</th>\n",
       "      <th>Join_Year</th>\n",
       "      <th>Join_Month</th>\n",
       "      <th>Gender_encoded</th>\n",
       "      <th>High_Earner</th>\n",
       "      <th>Location</th>\n",
       "    </tr>\n",
       "  </thead>\n",
       "  <tbody>\n",
       "    <tr>\n",
       "      <th>0</th>\n",
       "      <td>23.000000</td>\n",
       "      <td>Male</td>\n",
       "      <td>3000.0</td>\n",
       "      <td>Sales</td>\n",
       "      <td>New York</td>\n",
       "      <td>2015-00-01</td>\n",
       "      <td>20</td>\n",
       "      <td>Low</td>\n",
       "      <td>2015</td>\n",
       "      <td>1</td>\n",
       "      <td>1</td>\n",
       "      <td>False</td>\n",
       "      <td>Building A</td>\n",
       "    </tr>\n",
       "    <tr>\n",
       "      <th>1</th>\n",
       "      <td>45.000000</td>\n",
       "      <td>Female</td>\n",
       "      <td>4500.0</td>\n",
       "      <td>Engineering</td>\n",
       "      <td>Los Angeles</td>\n",
       "      <td>2016-00-15</td>\n",
       "      <td>40</td>\n",
       "      <td>Low</td>\n",
       "      <td>2016</td>\n",
       "      <td>3</td>\n",
       "      <td>0</td>\n",
       "      <td>False</td>\n",
       "      <td>Building B</td>\n",
       "    </tr>\n",
       "    <tr>\n",
       "      <th>2</th>\n",
       "      <td>31.000000</td>\n",
       "      <td>Male</td>\n",
       "      <td>3200.0</td>\n",
       "      <td>HR</td>\n",
       "      <td>New York</td>\n",
       "      <td>2018-00-25</td>\n",
       "      <td>30</td>\n",
       "      <td>Low</td>\n",
       "      <td>2018</td>\n",
       "      <td>6</td>\n",
       "      <td>1</td>\n",
       "      <td>False</td>\n",
       "      <td>Building C</td>\n",
       "    </tr>\n",
       "    <tr>\n",
       "      <th>3</th>\n",
       "      <td>27.000000</td>\n",
       "      <td>Female</td>\n",
       "      <td>5000.0</td>\n",
       "      <td>Marketing</td>\n",
       "      <td>Chicago</td>\n",
       "      <td>2017-00-09</td>\n",
       "      <td>20</td>\n",
       "      <td>High</td>\n",
       "      <td>2017</td>\n",
       "      <td>8</td>\n",
       "      <td>0</td>\n",
       "      <td>False</td>\n",
       "      <td>Building D</td>\n",
       "    </tr>\n",
       "    <tr>\n",
       "      <th>4</th>\n",
       "      <td>35.333333</td>\n",
       "      <td>Male</td>\n",
       "      <td>4800.0</td>\n",
       "      <td>Sales</td>\n",
       "      <td>Unknown</td>\n",
       "      <td>2015-00-19</td>\n",
       "      <td>30</td>\n",
       "      <td>Low</td>\n",
       "      <td>2015</td>\n",
       "      <td>12</td>\n",
       "      <td>1</td>\n",
       "      <td>False</td>\n",
       "      <td>Building A</td>\n",
       "    </tr>\n",
       "    <tr>\n",
       "      <th>5</th>\n",
       "      <td>36.000000</td>\n",
       "      <td>Female</td>\n",
       "      <td>5600.0</td>\n",
       "      <td>HR</td>\n",
       "      <td>Chicago</td>\n",
       "      <td>2019-00-30</td>\n",
       "      <td>30</td>\n",
       "      <td>High</td>\n",
       "      <td>2019</td>\n",
       "      <td>11</td>\n",
       "      <td>0</td>\n",
       "      <td>False</td>\n",
       "      <td>Building C</td>\n",
       "    </tr>\n",
       "    <tr>\n",
       "      <th>6</th>\n",
       "      <td>50.000000</td>\n",
       "      <td>Male</td>\n",
       "      <td>7500.0</td>\n",
       "      <td>Engineering</td>\n",
       "      <td>Los Angeles</td>\n",
       "      <td>2018-00-05</td>\n",
       "      <td>40</td>\n",
       "      <td>High</td>\n",
       "      <td>2018</td>\n",
       "      <td>2</td>\n",
       "      <td>1</td>\n",
       "      <td>True</td>\n",
       "      <td>Building B</td>\n",
       "    </tr>\n",
       "  </tbody>\n",
       "</table>\n",
       "</div>"
      ],
      "text/plain": [
       "         Age  Gender  Salary   Department         City   Join_Date Age_Group  \\\n",
       "0  23.000000    Male  3000.0        Sales     New York  2015-00-01        20   \n",
       "1  45.000000  Female  4500.0  Engineering  Los Angeles  2016-00-15        40   \n",
       "2  31.000000    Male  3200.0           HR     New York  2018-00-25        30   \n",
       "3  27.000000  Female  5000.0    Marketing      Chicago  2017-00-09        20   \n",
       "4  35.333333    Male  4800.0        Sales      Unknown  2015-00-19        30   \n",
       "5  36.000000  Female  5600.0           HR      Chicago  2019-00-30        30   \n",
       "6  50.000000    Male  7500.0  Engineering  Los Angeles  2018-00-05        40   \n",
       "\n",
       "  Salary_Level  Join_Year  Join_Month  Gender_encoded  High_Earner    Location  \n",
       "0          Low       2015           1               1        False  Building A  \n",
       "1          Low       2016           3               0        False  Building B  \n",
       "2          Low       2018           6               1        False  Building C  \n",
       "3         High       2017           8               0        False  Building D  \n",
       "4          Low       2015          12               1        False  Building A  \n",
       "5         High       2019          11               0        False  Building C  \n",
       "6         High       2018           2               1         True  Building B  "
      ]
     },
     "execution_count": 57,
     "metadata": {},
     "output_type": "execute_result"
    }
   ],
   "source": [
    "df_merged = pd.merge(df, department_info, on='Department', how='left')\n",
    "df_merged"
   ]
  },
  {
   "cell_type": "code",
   "execution_count": 58,
   "metadata": {},
   "outputs": [
    {
     "data": {
      "text/html": [
       "<div>\n",
       "<style scoped>\n",
       "    .dataframe tbody tr th:only-of-type {\n",
       "        vertical-align: middle;\n",
       "    }\n",
       "\n",
       "    .dataframe tbody tr th {\n",
       "        vertical-align: top;\n",
       "    }\n",
       "\n",
       "    .dataframe thead th {\n",
       "        text-align: right;\n",
       "    }\n",
       "</style>\n",
       "<table border=\"1\" class=\"dataframe\">\n",
       "  <thead>\n",
       "    <tr style=\"text-align: right;\">\n",
       "      <th></th>\n",
       "      <th>Age</th>\n",
       "      <th>Gender</th>\n",
       "      <th>Salary</th>\n",
       "      <th>Department</th>\n",
       "      <th>City</th>\n",
       "      <th>Join_Date</th>\n",
       "      <th>Age_Group</th>\n",
       "      <th>Salary_Level</th>\n",
       "      <th>Join_Year</th>\n",
       "      <th>Join_Month</th>\n",
       "      <th>Gender_encoded</th>\n",
       "      <th>High_Earner</th>\n",
       "      <th>Location</th>\n",
       "    </tr>\n",
       "  </thead>\n",
       "  <tbody>\n",
       "    <tr>\n",
       "      <th>0</th>\n",
       "      <td>23.000000</td>\n",
       "      <td>Male</td>\n",
       "      <td>3000.0</td>\n",
       "      <td>Sales</td>\n",
       "      <td>New York</td>\n",
       "      <td>2015-00-01</td>\n",
       "      <td>20</td>\n",
       "      <td>Low</td>\n",
       "      <td>2015</td>\n",
       "      <td>1</td>\n",
       "      <td>1</td>\n",
       "      <td>False</td>\n",
       "      <td>Building A</td>\n",
       "    </tr>\n",
       "    <tr>\n",
       "      <th>1</th>\n",
       "      <td>45.000000</td>\n",
       "      <td>Female</td>\n",
       "      <td>4500.0</td>\n",
       "      <td>Engineering</td>\n",
       "      <td>Los Angeles</td>\n",
       "      <td>2016-00-15</td>\n",
       "      <td>40</td>\n",
       "      <td>Low</td>\n",
       "      <td>2016</td>\n",
       "      <td>3</td>\n",
       "      <td>0</td>\n",
       "      <td>False</td>\n",
       "      <td>Building B</td>\n",
       "    </tr>\n",
       "    <tr>\n",
       "      <th>2</th>\n",
       "      <td>31.000000</td>\n",
       "      <td>Male</td>\n",
       "      <td>3200.0</td>\n",
       "      <td>HR</td>\n",
       "      <td>New York</td>\n",
       "      <td>2018-00-25</td>\n",
       "      <td>30</td>\n",
       "      <td>Low</td>\n",
       "      <td>2018</td>\n",
       "      <td>6</td>\n",
       "      <td>1</td>\n",
       "      <td>False</td>\n",
       "      <td>Building C</td>\n",
       "    </tr>\n",
       "    <tr>\n",
       "      <th>3</th>\n",
       "      <td>27.000000</td>\n",
       "      <td>Female</td>\n",
       "      <td>5000.0</td>\n",
       "      <td>Marketing</td>\n",
       "      <td>Chicago</td>\n",
       "      <td>2017-00-09</td>\n",
       "      <td>20</td>\n",
       "      <td>High</td>\n",
       "      <td>2017</td>\n",
       "      <td>8</td>\n",
       "      <td>0</td>\n",
       "      <td>False</td>\n",
       "      <td>Building D</td>\n",
       "    </tr>\n",
       "    <tr>\n",
       "      <th>4</th>\n",
       "      <td>35.333333</td>\n",
       "      <td>Male</td>\n",
       "      <td>4800.0</td>\n",
       "      <td>Sales</td>\n",
       "      <td>Unknown</td>\n",
       "      <td>2015-00-19</td>\n",
       "      <td>30</td>\n",
       "      <td>Low</td>\n",
       "      <td>2015</td>\n",
       "      <td>12</td>\n",
       "      <td>1</td>\n",
       "      <td>False</td>\n",
       "      <td>Building A</td>\n",
       "    </tr>\n",
       "    <tr>\n",
       "      <th>5</th>\n",
       "      <td>36.000000</td>\n",
       "      <td>Female</td>\n",
       "      <td>5600.0</td>\n",
       "      <td>HR</td>\n",
       "      <td>Chicago</td>\n",
       "      <td>2019-00-30</td>\n",
       "      <td>30</td>\n",
       "      <td>High</td>\n",
       "      <td>2019</td>\n",
       "      <td>11</td>\n",
       "      <td>0</td>\n",
       "      <td>False</td>\n",
       "      <td>Building C</td>\n",
       "    </tr>\n",
       "    <tr>\n",
       "      <th>6</th>\n",
       "      <td>50.000000</td>\n",
       "      <td>Male</td>\n",
       "      <td>7500.0</td>\n",
       "      <td>Engineering</td>\n",
       "      <td>Los Angeles</td>\n",
       "      <td>2018-00-05</td>\n",
       "      <td>40</td>\n",
       "      <td>High</td>\n",
       "      <td>2018</td>\n",
       "      <td>2</td>\n",
       "      <td>1</td>\n",
       "      <td>True</td>\n",
       "      <td>Building B</td>\n",
       "    </tr>\n",
       "  </tbody>\n",
       "</table>\n",
       "</div>"
      ],
      "text/plain": [
       "         Age  Gender  Salary   Department         City   Join_Date Age_Group  \\\n",
       "0  23.000000    Male  3000.0        Sales     New York  2015-00-01        20   \n",
       "1  45.000000  Female  4500.0  Engineering  Los Angeles  2016-00-15        40   \n",
       "2  31.000000    Male  3200.0           HR     New York  2018-00-25        30   \n",
       "3  27.000000  Female  5000.0    Marketing      Chicago  2017-00-09        20   \n",
       "4  35.333333    Male  4800.0        Sales      Unknown  2015-00-19        30   \n",
       "5  36.000000  Female  5600.0           HR      Chicago  2019-00-30        30   \n",
       "6  50.000000    Male  7500.0  Engineering  Los Angeles  2018-00-05        40   \n",
       "\n",
       "  Salary_Level  Join_Year  Join_Month  Gender_encoded  High_Earner    Location  \n",
       "0          Low       2015           1               1        False  Building A  \n",
       "1          Low       2016           3               0        False  Building B  \n",
       "2          Low       2018           6               1        False  Building C  \n",
       "3         High       2017           8               0        False  Building D  \n",
       "4          Low       2015          12               1        False  Building A  \n",
       "5         High       2019          11               0        False  Building C  \n",
       "6         High       2018           2               1         True  Building B  "
      ]
     },
     "execution_count": 58,
     "metadata": {},
     "output_type": "execute_result"
    }
   ],
   "source": [
    "df_depued = df_merged.drop_duplicates()\n",
    "df_depued"
   ]
  },
  {
   "cell_type": "code",
   "execution_count": null,
   "metadata": {},
   "outputs": [],
   "source": []
  }
 ],
 "metadata": {
  "kernelspec": {
   "display_name": "Python 3 (ipykernel)",
   "language": "python",
   "name": "python3"
  },
  "language_info": {
   "codemirror_mode": {
    "name": "ipython",
    "version": 3
   },
   "file_extension": ".py",
   "mimetype": "text/x-python",
   "name": "python",
   "nbconvert_exporter": "python",
   "pygments_lexer": "ipython3",
   "version": "3.11.7"
  }
 },
 "nbformat": 4,
 "nbformat_minor": 4
}
