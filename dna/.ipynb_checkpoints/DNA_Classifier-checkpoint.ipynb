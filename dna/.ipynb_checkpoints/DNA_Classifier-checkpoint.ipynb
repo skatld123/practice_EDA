{
 "cells": [
  {
   "cell_type": "code",
   "execution_count": null,
   "id": "d4519b69-9cd9-4be8-a84e-4fbdbbef9029",
   "metadata": {},
   "outputs": [],
   "source": [
    "# Data : https://dacon.io/competitions/official/236035/overview/description\n"
   ]
  }
 ],
 "metadata": {
  "kernelspec": {
   "display_name": "Python 3 (ipykernel)",
   "language": "python",
   "name": "python3"
  },
  "language_info": {
   "codemirror_mode": {
    "name": "ipython",
    "version": 3
   },
   "file_extension": ".py",
   "mimetype": "text/x-python",
   "name": "python",
   "nbconvert_exporter": "python",
   "pygments_lexer": "ipython3",
   "version": "3.11.7"
  }
 },
 "nbformat": 4,
 "nbformat_minor": 5
}
