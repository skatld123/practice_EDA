{
 "cells": [
  {
   "cell_type": "markdown",
   "metadata": {},
   "source": [
    "\n",
    "### 데이터프레임 설명\n",
    "1. **첫 번째 테이블**: `transactions_df`\n",
    "   - **Transaction ID**: 거래 고유 ID\n",
    "   - **Customer ID**: 고객 ID\n",
    "   - **Purchase Amount**: 구매 금액\n",
    "   - **Transaction Date**: 거래가 발생한 날짜\n",
    "\n",
    "2. **두 번째 테이블**: `customers_df`\n",
    "   - **Customer ID**: 고객 고유 ID\n",
    "   - **Registration Date**: 고객의 가입 날짜\n",
    "   - **Store Location**: 매장 위치\n",
    "\n",
    "### 문제 목표\n",
    "- 두 테이블을 `Customer ID`로 결합하여, **월별 총 구매 금액**을 계산한 뒤, 이를 **가장 많이 구매한 순서로 정렬**해봅니다."
   ]
  },
  {
   "cell_type": "markdown",
   "metadata": {},
   "source": [
    "### 문제 목표\n",
    "- 두 테이블을 `Customer ID`로 결합하여, **월별 총 구매 금액**을 계산한 뒤, 이를 **가장 많이 구매한 순서로 정렬**해봅니다.\n",
    "\n",
    "### 데이터 생성 코드"
   ]
  },
  {
   "cell_type": "code",
   "execution_count": 1,
   "metadata": {},
   "outputs": [
    {
     "name": "stdout",
     "output_type": "stream",
     "text": [
      "Transactions DataFrame:\n",
      "   Transaction ID Customer ID  Purchase Amount Transaction Date\n",
      "0          T0001        C013              493       2023-06-17\n",
      "1          T0002        C016              249       2023-02-06\n",
      "2          T0003        C001              278       2023-10-04\n",
      "3          T0004        C004              340       2023-01-06\n",
      "4          T0005        C004              393       2023-01-18\n",
      "\n",
      "Customers DataFrame:\n",
      "   Customer ID Registration Date Store Location\n",
      "0        C005        2022-02-09         Suburb\n",
      "1        C002        2022-01-05         Suburb\n",
      "2        C011        2022-12-28           Mall\n",
      "3        C020        2022-10-07         Uptown\n",
      "4        C018        2022-06-14         Uptown\n"
     ]
    }
   ],
   "source": [
    "\n",
    "import pandas as pd\n",
    "import numpy as np\n",
    "from datetime import datetime, timedelta\n",
    "\n",
    "# 1. transactions_df 데이터프레임 생성\n",
    "np.random.seed(0)\n",
    "transaction_ids = [f\"T{str(i).zfill(4)}\" for i in range(1, 51)]\n",
    "customer_ids = np.random.choice([f\"C{str(i).zfill(3)}\" for i in range(1, 21)], size=50)\n",
    "purchase_amounts = np.random.randint(5, 500, size=50)  # 구매 금액 (5달러 ~ 500달러)\n",
    "transaction_dates = [datetime(2023, np.random.randint(1, 13), np.random.randint(1, 29)) for _ in range(50)]\n",
    "\n",
    "transactions_df = pd.DataFrame({\n",
    "    \"Transaction ID\": transaction_ids,\n",
    "    \"Customer ID\": customer_ids,\n",
    "    \"Purchase Amount\": purchase_amounts,\n",
    "    \"Transaction Date\": transaction_dates\n",
    "})\n",
    "\n",
    "# 2. customers_df 데이터프레임 생성\n",
    "unique_customer_ids = list(set(customer_ids))\n",
    "registration_dates = [datetime(2022, np.random.randint(1, 13), np.random.randint(1, 29)) for _ in unique_customer_ids]\n",
    "store_locations = np.random.choice([\"Downtown\", \"Uptown\", \"Suburb\", \"Mall\"], size=len(unique_customer_ids))\n",
    "\n",
    "customers_df = pd.DataFrame({\n",
    "    \"Customer ID\": unique_customer_ids,\n",
    "    \"Registration Date\": registration_dates,\n",
    "    \"Store Location\": store_locations\n",
    "})\n",
    "\n",
    "print(\"Transactions DataFrame:\\n\", transactions_df.head())\n",
    "print(\"\\nCustomers DataFrame:\\n\", customers_df.head())"
   ]
  },
  {
   "cell_type": "code",
   "execution_count": 4,
   "metadata": {},
   "outputs": [
    {
     "name": "stdout",
     "output_type": "stream",
     "text": [
      "50\n"
     ]
    },
    {
     "data": {
      "text/html": [
       "<div>\n",
       "<style scoped>\n",
       "    .dataframe tbody tr th:only-of-type {\n",
       "        vertical-align: middle;\n",
       "    }\n",
       "\n",
       "    .dataframe tbody tr th {\n",
       "        vertical-align: top;\n",
       "    }\n",
       "\n",
       "    .dataframe thead th {\n",
       "        text-align: right;\n",
       "    }\n",
       "</style>\n",
       "<table border=\"1\" class=\"dataframe\">\n",
       "  <thead>\n",
       "    <tr style=\"text-align: right;\">\n",
       "      <th></th>\n",
       "      <th>Transaction ID</th>\n",
       "      <th>Customer ID</th>\n",
       "      <th>Purchase Amount</th>\n",
       "      <th>Transaction Date</th>\n",
       "    </tr>\n",
       "  </thead>\n",
       "  <tbody>\n",
       "    <tr>\n",
       "      <th>0</th>\n",
       "      <td>T0001</td>\n",
       "      <td>C013</td>\n",
       "      <td>493</td>\n",
       "      <td>2023-06-17</td>\n",
       "    </tr>\n",
       "    <tr>\n",
       "      <th>1</th>\n",
       "      <td>T0002</td>\n",
       "      <td>C016</td>\n",
       "      <td>249</td>\n",
       "      <td>2023-02-06</td>\n",
       "    </tr>\n",
       "    <tr>\n",
       "      <th>2</th>\n",
       "      <td>T0003</td>\n",
       "      <td>C001</td>\n",
       "      <td>278</td>\n",
       "      <td>2023-10-04</td>\n",
       "    </tr>\n",
       "    <tr>\n",
       "      <th>3</th>\n",
       "      <td>T0004</td>\n",
       "      <td>C004</td>\n",
       "      <td>340</td>\n",
       "      <td>2023-01-06</td>\n",
       "    </tr>\n",
       "    <tr>\n",
       "      <th>4</th>\n",
       "      <td>T0005</td>\n",
       "      <td>C004</td>\n",
       "      <td>393</td>\n",
       "      <td>2023-01-18</td>\n",
       "    </tr>\n",
       "  </tbody>\n",
       "</table>\n",
       "</div>"
      ],
      "text/plain": [
       "  Transaction ID Customer ID  Purchase Amount Transaction Date\n",
       "0          T0001        C013              493       2023-06-17\n",
       "1          T0002        C016              249       2023-02-06\n",
       "2          T0003        C001              278       2023-10-04\n",
       "3          T0004        C004              340       2023-01-06\n",
       "4          T0005        C004              393       2023-01-18"
      ]
     },
     "execution_count": 4,
     "metadata": {},
     "output_type": "execute_result"
    }
   ],
   "source": [
    "print(len(transactions_df))\n",
    "transactions_df.head()"
   ]
  },
  {
   "cell_type": "code",
   "execution_count": 3,
   "metadata": {},
   "outputs": [
    {
     "data": {
      "text/html": [
       "<div>\n",
       "<style scoped>\n",
       "    .dataframe tbody tr th:only-of-type {\n",
       "        vertical-align: middle;\n",
       "    }\n",
       "\n",
       "    .dataframe tbody tr th {\n",
       "        vertical-align: top;\n",
       "    }\n",
       "\n",
       "    .dataframe thead th {\n",
       "        text-align: right;\n",
       "    }\n",
       "</style>\n",
       "<table border=\"1\" class=\"dataframe\">\n",
       "  <thead>\n",
       "    <tr style=\"text-align: right;\">\n",
       "      <th></th>\n",
       "      <th>Customer ID</th>\n",
       "      <th>Registration Date</th>\n",
       "      <th>Store Location</th>\n",
       "    </tr>\n",
       "  </thead>\n",
       "  <tbody>\n",
       "    <tr>\n",
       "      <th>0</th>\n",
       "      <td>C005</td>\n",
       "      <td>2022-02-09</td>\n",
       "      <td>Suburb</td>\n",
       "    </tr>\n",
       "    <tr>\n",
       "      <th>1</th>\n",
       "      <td>C002</td>\n",
       "      <td>2022-01-05</td>\n",
       "      <td>Suburb</td>\n",
       "    </tr>\n",
       "    <tr>\n",
       "      <th>2</th>\n",
       "      <td>C011</td>\n",
       "      <td>2022-12-28</td>\n",
       "      <td>Mall</td>\n",
       "    </tr>\n",
       "    <tr>\n",
       "      <th>3</th>\n",
       "      <td>C020</td>\n",
       "      <td>2022-10-07</td>\n",
       "      <td>Uptown</td>\n",
       "    </tr>\n",
       "    <tr>\n",
       "      <th>4</th>\n",
       "      <td>C018</td>\n",
       "      <td>2022-06-14</td>\n",
       "      <td>Uptown</td>\n",
       "    </tr>\n",
       "  </tbody>\n",
       "</table>\n",
       "</div>"
      ],
      "text/plain": [
       "  Customer ID Registration Date Store Location\n",
       "0        C005        2022-02-09         Suburb\n",
       "1        C002        2022-01-05         Suburb\n",
       "2        C011        2022-12-28           Mall\n",
       "3        C020        2022-10-07         Uptown\n",
       "4        C018        2022-06-14         Uptown"
      ]
     },
     "execution_count": 3,
     "metadata": {},
     "output_type": "execute_result"
    }
   ],
   "source": [
    "customers_df.head()"
   ]
  },
  {
   "cell_type": "markdown",
   "metadata": {},
   "source": [
    "### 생성된 데이터 설명\n",
    "1. **`transactions_df` 테이블**:\n",
    "   - **Transaction ID**별로 고객의 구매 금액과 날짜를 기록합니다.\n",
    "   \n",
    "2. **`customers_df` 테이블**:\n",
    "   - 각 **Customer ID**별로 가입 날짜와 매장 위치 정보를 기록합니다."
   ]
  },
  {
   "cell_type": "markdown",
   "metadata": {},
   "source": [
    "다음은 `transactions_df`와 `customers_df` 데이터를 활용해 해결할 수 있는 추가적인 문제들입니다. 각 문제는 **매출 분석**과 **고객 분석**을 목적으로 다양한 Pandas 기능을 연습할 수 있도록 구성했습니다.\r\n",
    "\r\n",
    "---\r\n",
    "\r\n",
    "### 문제 1: 매장 위치별 고객 평균 구매 금액 분석\r\n",
    "\r\n",
    "- **설명**: `transactions_df`와 `customers_df`를 결합하여 **각 매장 위치**(Store Location)별 **평균 구매 금액**을 계산하세요.\r\n",
    "- **요구사항**: \r\n",
    "  - `Customer ID`를 기준으로 두 테이블을 결합합니다.\r\n",
    "  - 각 `Store Location`별로 평균 구매 금액을 계산하여 **평균 구매 금액이 높은 순서**로 정렬합니다.\r\n",
    "  - 최종 결과는 **매장 위치(Store Location), 평균 구매 금액(Average Purchase Amount)**를 포함하는 데이터프레임 실제 마트 운영과 관련된 **고객 행동 분석**과 **매출 통계**를 수행하는 데 유용합니다.포함하고, 총 구매 금액이 높은 순서로 정렬하세요."
   ]
  },
  {
   "cell_type": "code",
   "execution_count": 12,
   "metadata": {},
   "outputs": [
    {
     "data": {
      "text/html": [
       "<div>\n",
       "<style scoped>\n",
       "    .dataframe tbody tr th:only-of-type {\n",
       "        vertical-align: middle;\n",
       "    }\n",
       "\n",
       "    .dataframe tbody tr th {\n",
       "        vertical-align: top;\n",
       "    }\n",
       "\n",
       "    .dataframe thead th {\n",
       "        text-align: right;\n",
       "    }\n",
       "</style>\n",
       "<table border=\"1\" class=\"dataframe\">\n",
       "  <thead>\n",
       "    <tr style=\"text-align: right;\">\n",
       "      <th></th>\n",
       "      <th>Transaction ID</th>\n",
       "      <th>Customer ID</th>\n",
       "      <th>Purchase Amount</th>\n",
       "      <th>Transaction Date</th>\n",
       "      <th>Registration Date</th>\n",
       "      <th>Store Location</th>\n",
       "    </tr>\n",
       "  </thead>\n",
       "  <tbody>\n",
       "    <tr>\n",
       "      <th>0</th>\n",
       "      <td>T0010</td>\n",
       "      <td>C005</td>\n",
       "      <td>381</td>\n",
       "      <td>2023-01-08</td>\n",
       "      <td>2022-02-09</td>\n",
       "      <td>Suburb</td>\n",
       "    </tr>\n",
       "    <tr>\n",
       "      <th>1</th>\n",
       "      <td>T0048</td>\n",
       "      <td>C005</td>\n",
       "      <td>212</td>\n",
       "      <td>2023-10-17</td>\n",
       "      <td>2022-02-09</td>\n",
       "      <td>Suburb</td>\n",
       "    </tr>\n",
       "    <tr>\n",
       "      <th>2</th>\n",
       "      <td>T0013</td>\n",
       "      <td>C002</td>\n",
       "      <td>492</td>\n",
       "      <td>2023-03-12</td>\n",
       "      <td>2022-01-05</td>\n",
       "      <td>Suburb</td>\n",
       "    </tr>\n",
       "    <tr>\n",
       "      <th>3</th>\n",
       "      <td>T0038</td>\n",
       "      <td>C002</td>\n",
       "      <td>465</td>\n",
       "      <td>2023-09-27</td>\n",
       "      <td>2022-01-05</td>\n",
       "      <td>Suburb</td>\n",
       "    </tr>\n",
       "    <tr>\n",
       "      <th>4</th>\n",
       "      <td>T0041</td>\n",
       "      <td>C011</td>\n",
       "      <td>493</td>\n",
       "      <td>2023-01-05</td>\n",
       "      <td>2022-12-28</td>\n",
       "      <td>Mall</td>\n",
       "    </tr>\n",
       "  </tbody>\n",
       "</table>\n",
       "</div>"
      ],
      "text/plain": [
       "  Transaction ID Customer ID  Purchase Amount Transaction Date  \\\n",
       "0          T0010        C005              381       2023-01-08   \n",
       "1          T0048        C005              212       2023-10-17   \n",
       "2          T0013        C002              492       2023-03-12   \n",
       "3          T0038        C002              465       2023-09-27   \n",
       "4          T0041        C011              493       2023-01-05   \n",
       "\n",
       "  Registration Date Store Location  \n",
       "0        2022-02-09         Suburb  \n",
       "1        2022-02-09         Suburb  \n",
       "2        2022-01-05         Suburb  \n",
       "3        2022-01-05         Suburb  \n",
       "4        2022-12-28           Mall  "
      ]
     },
     "execution_count": 12,
     "metadata": {},
     "output_type": "execute_result"
    }
   ],
   "source": [
    "df_trans = transactions_df\n",
    "df_cus = customers_df\n",
    "merged_df = pd.merge(\n",
    "    df_trans, df_cus,\n",
    "    on=\"Customer ID\",\n",
    "    how=\"right\"\n",
    ")\n",
    "merged_df.head()"
   ]
  },
  {
   "cell_type": "code",
   "execution_count": 30,
   "metadata": {},
   "outputs": [
    {
     "data": {
      "text/html": [
       "<div>\n",
       "<style scoped>\n",
       "    .dataframe tbody tr th:only-of-type {\n",
       "        vertical-align: middle;\n",
       "    }\n",
       "\n",
       "    .dataframe tbody tr th {\n",
       "        vertical-align: top;\n",
       "    }\n",
       "\n",
       "    .dataframe thead th {\n",
       "        text-align: right;\n",
       "    }\n",
       "</style>\n",
       "<table border=\"1\" class=\"dataframe\">\n",
       "  <thead>\n",
       "    <tr style=\"text-align: right;\">\n",
       "      <th></th>\n",
       "      <th>Store Location</th>\n",
       "      <th>Purchase Amount</th>\n",
       "    </tr>\n",
       "  </thead>\n",
       "  <tbody>\n",
       "    <tr>\n",
       "      <th>0</th>\n",
       "      <td>Downtown</td>\n",
       "      <td>352.000000</td>\n",
       "    </tr>\n",
       "    <tr>\n",
       "      <th>1</th>\n",
       "      <td>Suburb</td>\n",
       "      <td>324.000000</td>\n",
       "    </tr>\n",
       "    <tr>\n",
       "      <th>2</th>\n",
       "      <td>Uptown</td>\n",
       "      <td>259.842105</td>\n",
       "    </tr>\n",
       "    <tr>\n",
       "      <th>3</th>\n",
       "      <td>Mall</td>\n",
       "      <td>248.166667</td>\n",
       "    </tr>\n",
       "  </tbody>\n",
       "</table>\n",
       "</div>"
      ],
      "text/plain": [
       "  Store Location  Purchase Amount\n",
       "0       Downtown       352.000000\n",
       "1         Suburb       324.000000\n",
       "2         Uptown       259.842105\n",
       "3           Mall       248.166667"
      ]
     },
     "execution_count": 30,
     "metadata": {},
     "output_type": "execute_result"
    }
   ],
   "source": [
    "df_store_amout = merged_df.groupby(\"Store Location\")[\"Purchase Amount\"].mean().sort_values(ascending=False).reset_index()\n",
    "df_store_amout"
   ]
  },
  {
   "cell_type": "markdown",
   "metadata": {},
   "source": [
    "---\n",
    "\n",
    "### 문제 2: 월별 신규 고객 수 분석\n",
    "\n",
    "- **설명**: `customers_df`를 사용하여 **월별 신규 가입 고객 수**를 계산하세요.\n",
    "- **요구사항**:\n",
    "  - `Registration Date`에서 연도-월 정보를 추출해 신규 가입 고객 수를 계산합니다.\n",
    "  - 월별로 가입한 **신규 고객 수를 오름차순 정렬**합니다.\n",
    "  - 최종 결과는 **연도-월(YearMonth), 신규 가입 고객 수(New Customers)**를 포함하는 데이터프레임으로 출력하세요.\n"
   ]
  },
  {
   "cell_type": "code",
   "execution_count": 31,
   "metadata": {},
   "outputs": [
    {
     "name": "stdout",
     "output_type": "stream",
     "text": [
      "<class 'pandas.core.frame.DataFrame'>\n",
      "RangeIndex: 20 entries, 0 to 19\n",
      "Data columns (total 3 columns):\n",
      " #   Column             Non-Null Count  Dtype         \n",
      "---  ------             --------------  -----         \n",
      " 0   Customer ID        20 non-null     object        \n",
      " 1   Registration Date  20 non-null     datetime64[ns]\n",
      " 2   Store Location     20 non-null     object        \n",
      "dtypes: datetime64[ns](1), object(2)\n",
      "memory usage: 612.0+ bytes\n"
     ]
    }
   ],
   "source": [
    "df_cus.info()"
   ]
  },
  {
   "cell_type": "code",
   "execution_count": 58,
   "metadata": {},
   "outputs": [
    {
     "data": {
      "text/plain": [
       "Registration Date\n",
       "2022-02    1\n",
       "2022-06    1\n",
       "2022-01    2\n",
       "2022-04    2\n",
       "2022-08    2\n",
       "2022-12    2\n",
       "2022-07    3\n",
       "2022-10    3\n",
       "2022-09    4\n",
       "Freq: M, Name: Registration Date, dtype: int64"
      ]
     },
     "execution_count": 58,
     "metadata": {},
     "output_type": "execute_result"
    }
   ],
   "source": [
    "df_cus[\"Registration Date\"] = pd.to_datetime(df_cus[\"Registration Date\"])\n",
    "df_year = df_cus[\"Registration Date\"].dt.year\n",
    "df_month = df_cus[\"Registration Date\"].dt.month\n",
    "df_year_month = df_cus[\"Registration Date\"].dt.to_period(\"M\")\n",
    "df_month_register = df_cus.groupby(df_year_month)[\"Registration Date\"].count().sort_values()\n",
    "df_month_register\n",
    "\n"
   ]
  },
  {
   "cell_type": "markdown",
   "metadata": {},
   "source": [
    "\n",
    "---\n",
    "\n",
    "### 문제 3: 고객별 누적 구매 금액 분석\n",
    "\n",
    "- **설명**: `transactions_df` 데이터를 이용하여 **고객별 누적 구매 금액**을 계산하세요.\n",
    "- **요구사항**:\n",
    "  - 고객별로 `Purchase Amount`를 **누적**하여 각 거래에서의 누적 구매 금액을 계산합니다.\n",
    "  - 최종 결과는 **Customer ID, Transaction ID, Transaction Date, 누적 구매 금액(Cumulative Purchase)**을 포함하는 데이터프레임으로 출력하세요.\n"
   ]
  },
  {
   "cell_type": "markdown",
   "metadata": {},
   "source": [
    "---\n",
    "### 문제 4: 인기 있는 구매 요일 분석\n",
    "\n",
    "- **설명**: `transactions_df`의 거래 날짜에서 요일을 추출하여, **가장 인기 있는 구매 요일**을 분석하세요.\n",
    "- **요구사항**:\n",
    "  - `Transaction Date`에서 요일을 추출합니다.\n",
    "  - 요일별 **구매 횟수를 집계**하여 **가장 많이 구매가 발생한 요일 순**으로 정렬합니다.\n",
    "  - 최종 결과는 **요일(Day of Week)와 구매 횟수(Transaction Count)**로 구성된 데이터프레임을 출력하세요.\n"
   ]
  },
  {
   "cell_type": "markdown",
   "metadata": {},
   "source": [
    "---\n",
    "\n",
    "### 문제 5: 상위 10% VIP 고객 분석\n",
    "\n",
    "- **설명**: `transactions_df`에서 **총 구매 금액이 상위 10%에 속하는 VIP 고객**을 분석하세요.\n",
    "- **요구사항**:\n",
    "  - 각 고객의 총 구매 금액을 계산합니다.\n",
    "  - 총 구매 금액이 상위 10%에 해당하는 고객을 추출합니다.\n",
    "  - VIP 고객 목록에는 **Customer ID와 총 구매 금액(Total Purchase Amount)**을 포함하고, **총 구매 금액이 높은 순서**로 정렬하세요.\n",
    "\n",
    "---"
   ]
  },
  {
   "cell_type": "code",
   "execution_count": null,
   "metadata": {},
   "outputs": [],
   "source": []
  },
  {
   "cell_type": "markdown",
   "metadata": {},
   "source": []
  }
 ],
 "metadata": {
  "kernelspec": {
   "display_name": "Python 3 (ipykernel)",
   "language": "python",
   "name": "python3"
  },
  "language_info": {
   "codemirror_mode": {
    "name": "ipython",
    "version": 3
   },
   "file_extension": ".py",
   "mimetype": "text/x-python",
   "name": "python",
   "nbconvert_exporter": "python",
   "pygments_lexer": "ipython3",
   "version": "3.11.7"
  }
 },
 "nbformat": 4,
 "nbformat_minor": 4
}
